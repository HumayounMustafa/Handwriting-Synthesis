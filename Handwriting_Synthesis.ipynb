{
  "nbformat": 4,
  "nbformat_minor": 0,
  "metadata": {
    "colab": {
      "provenance": [],
      "authorship_tag": "ABX9TyOt0kHqbD9S0UrUpeWN2b9z",
      "include_colab_link": true
    },
    "kernelspec": {
      "name": "python3",
      "display_name": "Python 3"
    },
    "language_info": {
      "name": "python"
    }
  },
  "cells": [
    {
      "cell_type": "markdown",
      "metadata": {
        "id": "view-in-github",
        "colab_type": "text"
      },
      "source": [
        "<a href=\"https://colab.research.google.com/github/HumayounMustafa/Handwriting-Synthesis/blob/master/Handwriting_Synthesis.ipynb\" target=\"_parent\"><img src=\"https://colab.research.google.com/assets/colab-badge.svg\" alt=\"Open In Colab\"/></a>"
      ]
    },
    {
      "cell_type": "code",
      "execution_count": 1,
      "metadata": {
        "colab": {
          "base_uri": "https://localhost:8080/"
        },
        "id": "UKnuPRjO_FHN",
        "outputId": "87b5c371-c01a-4b10-818b-b338cf4457c3"
      },
      "outputs": [
        {
          "output_type": "stream",
          "name": "stdout",
          "text": [
            "Cloning into 'Handwriting-Synthesis'...\n",
            "remote: Enumerating objects: 77, done.\u001b[K\n",
            "remote: Counting objects: 100% (77/77), done.\u001b[K\n",
            "remote: Compressing objects: 100% (51/51), done.\u001b[K\n",
            "remote: Total 77 (delta 25), reused 62 (delta 20), pack-reused 0\u001b[K\n",
            "Unpacking objects: 100% (77/77), 40.41 MiB | 5.62 MiB/s, done.\n"
          ]
        }
      ],
      "source": [
        "!git clone https://github.com/HumayounMustafa/Handwriting-Synthesis"
      ]
    },
    {
      "cell_type": "code",
      "source": [
        "cd Handwriting-Synthesis/"
      ],
      "metadata": {
        "colab": {
          "base_uri": "https://localhost:8080/"
        },
        "id": "lqdEUgPQ_U-I",
        "outputId": "0ae96ed0-5636-4bc7-aa0f-f8f68a5e6cb7"
      },
      "execution_count": 2,
      "outputs": [
        {
          "output_type": "stream",
          "name": "stdout",
          "text": [
            "/content/Handwriting-Synthesis\n"
          ]
        }
      ]
    },
    {
      "cell_type": "code",
      "source": [
        "!python generate.py --noinfo --text=\"this was by computer\" --bias=2 --save=\"outputs/sample\""
      ],
      "metadata": {
        "colab": {
          "base_uri": "https://localhost:8080/"
        },
        "id": "npqwKb94_KxE",
        "outputId": "9daa9bd5-2b81-4d3f-8178-dd1b77d9239c"
      },
      "execution_count": 3,
      "outputs": [
        {
          "output_type": "stream",
          "name": "stdout",
          "text": [
            "2023-04-18 19:04:44.336106: I tensorflow/core/platform/cpu_feature_guard.cc:182] This TensorFlow binary is optimized to use available CPU instructions in performance-critical operations.\n",
            "To enable the following instructions: AVX2 FMA, in other operations, rebuild TensorFlow with the appropriate compiler flags.\n",
            "2023-04-18 19:04:46.341147: W tensorflow/compiler/tf2tensorrt/utils/py_utils.cc:38] TF-TRT Warning: Could not find TensorRT\n",
            "2023-04-18 19:04:55.062043: I tensorflow/compiler/mlir/mlir_graph_optimization_pass.cc:353] MLIR V1 optimization pass is not enabled\n",
            "[  529] sampling... synthesis\n",
            "Finished sampling!\n",
            "\n",
            "Argument received in else\n",
            "Figure(640x480)\n"
          ]
        }
      ]
    },
    {
      "cell_type": "code",
      "source": [
        "from PIL import Image\n",
        "\n",
        "color_image = Image.open(\"outputs/sample.png\")\n",
        "\n",
        "gray_image = color_image.convert(\"L\")\n",
        "\n",
        "threshold_value = 250\n",
        "binary_image = gray_image.point(lambda x: 0 if x < threshold_value else 255, \"1\")\n",
        "\n",
        "binary_image.save(\"binary_images/binary_sample.png\")\n"
      ],
      "metadata": {
        "id": "9CQfl0jN_Tfp"
      },
      "execution_count": 4,
      "outputs": []
    },
    {
      "cell_type": "code",
      "source": [],
      "metadata": {
        "id": "4Au98ftFdCDH"
      },
      "execution_count": null,
      "outputs": []
    }
  ]
}